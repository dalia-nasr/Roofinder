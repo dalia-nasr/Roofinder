{
 "cells": [
  {
   "cell_type": "code",
   "execution_count": null,
   "metadata": {},
   "outputs": [],
   "source": [
    "import pandas as pd\n",
    "import numpy as np\n",
    "import cv2\n",
    "from keras.models import load_model\n",
    "from matplotlib import pyplot as plt\n",
    "from tensorflow.keras.preprocessing.image import img_to_array, load_img\n",
    "from tensorflow.keras.utils import normalize\n",
    "from skimage import measure, color, io\n",
    "from PIL import Image"
   ]
  },
  {
   "cell_type": "code",
   "execution_count": null,
   "metadata": {},
   "outputs": [],
   "source": [
    "model = load_model('400-full_best_model.h5')\n",
    "img=load_img('train/image/image/144.jpg',target_size=(256,256)) \n",
    "img=img_to_array(img)\n",
    "img = img/255\n",
    "test_img_norm=img[:,:,0][:,:,None]\n",
    "test_img_input=np.expand_dims(test_img_norm, 0)\n",
    "prediction = (model.predict(test_img_input)[0,:,:,0] > 0.5).astype(np.uint8)\n",
    "plt.imsave('output.jpg', prediction, cmap='gray')"
   ]
  },
  {
   "cell_type": "code",
   "execution_count": null,
   "metadata": {},
   "outputs": [],
   "source": [
    "prediction = cv2.imread('output.jpg',0)\n",
    "ret1, thresh = cv2.threshold(prediction, 0, 255, cv2.THRESH_BINARY+cv2.THRESH_OTSU)\n",
    "kernel = np.ones((3,3),np.uint8)\n",
    "opening = cv2.morphologyEx(thresh,cv2.MORPH_OPEN,kernel, iterations = 2)\n",
    "sure_bg = cv2.dilate(opening,kernel,iterations=10)\n",
    "dist_transform = cv2.distanceTransform(opening,cv2.DIST_L2,5)\n",
    "ret2, sure_fg = cv2.threshold(dist_transform, 0.26*dist_transform.max(),255,0)\n",
    "sure_fg = np.uint8(sure_fg)\n",
    "unknown = cv2.subtract(sure_bg,sure_fg)\n",
    "ret3, markers = cv2.connectedComponents(sure_fg)\n",
    "markers = markers+10\n",
    "markers[unknown==255] = 0\n",
    "\n",
    "\n",
    "props = measure.regionprops_table(markers, intensity_image=prediction, \n",
    "                              properties=['label',\n",
    "                                          'area', 'equivalent_diameter',\n",
    "                                          'mean_intensity', 'solidity', 'orientation'])\n",
    "\n",
    "df = pd.DataFrame(props)\n",
    "df"
   ]
  }
 ],
 "metadata": {
  "language_info": {
   "name": "python"
  },
  "orig_nbformat": 4
 },
 "nbformat": 4,
 "nbformat_minor": 2
}
