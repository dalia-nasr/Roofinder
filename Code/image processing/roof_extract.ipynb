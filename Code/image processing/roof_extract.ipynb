{
 "cells": [
  {
   "cell_type": "code",
   "execution_count": null,
   "metadata": {},
   "outputs": [],
   "source": [
    "import numpy as np\n",
    "import cv2\n",
    "import os\n",
    "from matplotlib import pyplot as plt\n",
    "image=cv2.imread('../train/labels/labels/145.jpg')\n",
    "mainimage=cv2.imread('../train/image/image/145.jpg')\n",
    "gray=cv2.cvtColor(image,cv2.COLOR_BGR2GRAY)\n",
    "ret2,th2 = cv2.threshold(gray,0,255,cv2.THRESH_BINARY_INV+cv2.THRESH_OTSU)\n",
    "\n",
    "kernel=np.ones((3,3),np.uint8)\n",
    "dilated=cv2.dilate(th2,kernel,iterations=3)\n",
    "\n",
    "contours,_ = cv2.findContours(dilated, cv2.RETR_TREE, cv2.CHAIN_APPROX_SIMPLE)\n",
    "\n",
    "contours_box=[cv2.boundingRect(cnt) for cnt in contours]\n",
    "i = 0\n",
    "print(len(contours_box))\n",
    "for cnt in contours:\n",
    "    x,y,w,h=cv2.boundingRect(cnt)\n",
    "    area = cv2.contourArea(cnt)\n",
    "    if area >1000:\n",
    "        box_image = mainimage[y : y+h, x: x+w]\n",
    "        plt.imshow(box_image)\n",
    "        cv2.imwrite(f'image_{i}.jpg', box_image)\n",
    "        i=i+1"
   ]
  }
 ],
 "metadata": {
  "language_info": {
   "name": "python"
  },
  "orig_nbformat": 4
 },
 "nbformat": 4,
 "nbformat_minor": 2
}
