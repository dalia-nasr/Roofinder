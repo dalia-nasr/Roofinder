{
 "cells": [
  {
   "cell_type": "code",
   "execution_count": 10,
   "metadata": {},
   "outputs": [],
   "source": [
    "import os\n",
    "import shutil\n",
    "import numpy as np"
   ]
  },
  {
   "cell_type": "code",
   "execution_count": 69,
   "metadata": {},
   "outputs": [],
   "source": [
    "os.mkdir(\"../Type Classification/classification\")"
   ]
  },
  {
   "cell_type": "code",
   "execution_count": 70,
   "metadata": {},
   "outputs": [],
   "source": [
    "os.mkdir(\"classification/Test\")\n",
    "os.mkdir(\"classification/Validate\")\n",
    "os.mkdir(\"classification/Train\")"
   ]
  },
  {
   "cell_type": "code",
   "execution_count": 71,
   "metadata": {},
   "outputs": [],
   "source": [
    "os.mkdir(\"classification/Validate/Flat\")\n",
    "os.mkdir(\"classification/Validate/Hip\")\n",
    "os.mkdir(\"classification/Validate/Gable\")\n",
    "\n",
    "os.mkdir(\"classification/Train/Flat\")\n",
    "os.mkdir(\"classification/Train/Hip\")\n",
    "os.mkdir(\"classification/Train/Gable\")"
   ]
  },
  {
   "cell_type": "code",
   "execution_count": 72,
   "metadata": {},
   "outputs": [],
   "source": [
    "def splitData(src):\n",
    "    label = src.split(\"/\")[1]\n",
    "    allFileNames = os.listdir(src)\n",
    "    np.random.shuffle(allFileNames)\n",
    "    train_FileNames, val_FileNames, test_FileNames = np.split(np.array(allFileNames),[int(len(allFileNames)*0.7),int(len(allFileNames)*0.9) ])\n",
    "\n",
    "    train_FileNames = [src+'/'+ name for name in train_FileNames.tolist()]\n",
    "    val_FileNames = [src+'/' + name for name in val_FileNames.tolist()]\n",
    "    test_FileNames = [src+'/' + name for name in test_FileNames.tolist()]\n",
    "    for name in train_FileNames:\n",
    "        shutil.copy(name, \"classification/Train/\"+label)\n",
    "\n",
    "    for name in val_FileNames:\n",
    "        shutil.copy(name,\"classification/Validate/\"+label)\n",
    "\n",
    "    for name in test_FileNames:\n",
    "        shutil.copy(name, \"classification/Test\")\n",
    "\n",
    "    print(label +' Total images: ', len(allFileNames))\n",
    "    print(label +' Training: ', len(train_FileNames))\n",
    "    print(label +' Validation: ', len(val_FileNames))\n",
    "    print(label +' Testing: ', len(test_FileNames))"
   ]
  },
  {
   "cell_type": "code",
   "execution_count": 73,
   "metadata": {},
   "outputs": [
    {
     "name": "stdout",
     "output_type": "stream",
     "text": [
      "Flat Total images:  4800\n",
      "Flat Training:  3360\n",
      "Flat Validation:  960\n",
      "Flat Testing:  480\n",
      "\n",
      "\n",
      "Gable Total images:  4800\n",
      "Gable Training:  3360\n",
      "Gable Validation:  960\n",
      "Gable Testing:  480\n",
      "\n",
      "\n",
      "Hip Total images:  4800\n",
      "Hip Training:  3360\n",
      "Hip Validation:  960\n",
      "Hip Testing:  480\n"
     ]
    }
   ],
   "source": [
    "splitData('type/Flat')\n",
    "print('\\n')\n",
    "splitData('type/Gable')\n",
    "print('\\n')\n",
    "splitData('type/Hip')"
   ]
  }
 ],
 "metadata": {
  "interpreter": {
   "hash": "51c09332309a6e82ca07afb150d3a79e390adf26b67250f35a05604bdffb25ec"
  },
  "kernelspec": {
   "display_name": "Python 3.10.2 64-bit",
   "language": "python",
   "name": "python3"
  },
  "language_info": {
   "codemirror_mode": {
    "name": "ipython",
    "version": 3
   },
   "file_extension": ".py",
   "mimetype": "text/x-python",
   "name": "python",
   "nbconvert_exporter": "python",
   "pygments_lexer": "ipython3",
   "version": "3.10.2"
  },
  "orig_nbformat": 4
 },
 "nbformat": 4,
 "nbformat_minor": 2
}
